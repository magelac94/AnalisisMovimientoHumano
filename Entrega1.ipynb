{
 "cells": [
  {
   "cell_type": "code",
   "execution_count": 2,
   "metadata": {},
   "outputs": [],
   "source": [
    "## Librerias\n",
    "import numpy as np\n",
    "import scipy\n",
    "from scipy import linalg\n",
    "from numpy.linalg import inv"
   ]
  },
  {
   "cell_type": "code",
   "execution_count": 2,
   "metadata": {},
   "outputs": [],
   "source": [
    "### La funcion descomponer recibe una matriz(lista de listas) de 3x4\n",
    "### Devuelve las matrices K[3x3], R[3X3], t[3x1] \n",
    "def descomponer(listaDeListas):\n",
    "    \n",
    "    ## Convertimos lista de listas a matriz de Numpy\n",
    "    matriz  = np.array(listaDeListas)\n",
    "    print(\"\\n Matriz M \\n -------------\")\n",
    "    print(matriz)\n",
    "    \n",
    "    \n",
    "    ## Calculamos S\n",
    "    s = matriz[:,0:3]\n",
    "    print(\"\\n Matriz S \\n -------------\")\n",
    "    print(s)\n",
    "    \n",
    "    \n",
    "    ## Calculamos K y R utilizando rq de la libreria numpy.linalg\n",
    "    k, r = linalg.rq(s)\n",
    "    print(\"\\n Matriz K \\n -------------\")\n",
    "    print(k)\n",
    "    \n",
    "    print(\"\\n Matriz R \\n -------------\")\n",
    "    print(r)\n",
    "    \n",
    "    \n",
    "    ## Cambiamos los signos de las columnas de K (cuando el elmento de su diagonal es menor a 0)\n",
    "    ## Cambiamos los signos de las filas de R (cuando el elemento de la diagonal en K es menor a 0)\n",
    "    for j in [0,1,2]:    \n",
    "        if k[j,j] < 0:\n",
    "            r[j,:] = -r[j,:]\n",
    "            k[:,j] = -k[:,j]\n",
    "\n",
    "    print(\"\\n Matriz K sin negativos \\n -------------\")\n",
    "    print(k)\n",
    "    print(\"\\n Matriz R sin negativos \\n -------------\")\n",
    "    print(r)\n",
    "\n",
    "    \n",
    "    ## Calculamos w = k.t = tercer columna de M\n",
    "    w = matriz[:,3]\n",
    "    \n",
    "    k_inv = inv(k)\n",
    "    print(\"\\n Matriz K invertida \\n -------------\")\n",
    "    print(k_inv)\n",
    "    \n",
    "    t = k_inv.dot(w)\n",
    "    print(\"\\n Matriz t \\n -------------\")\n",
    "    print(t)\n",
    "    \n",
    "    return k,r,t"
   ]
  },
  {
   "cell_type": "code",
   "execution_count": 3,
   "metadata": {},
   "outputs": [
    {
     "name": "stdout",
     "output_type": "stream",
     "text": [
      "[[0 2 1 1]\n",
      " [4 3 0 8]\n",
      " [2 0 0 4]]\n",
      "\n",
      " Matriz M \n",
      " -------------\n",
      "[[0 2 1 1]\n",
      " [4 3 0 8]\n",
      " [2 0 0 4]]\n",
      "\n",
      " Matriz S \n",
      " -------------\n",
      "[[0 2 1]\n",
      " [4 3 0]\n",
      " [2 0 0]]\n",
      "\n",
      " Matriz K \n",
      " -------------\n",
      "[[-1.  2.  0.]\n",
      " [ 0.  3. -4.]\n",
      " [ 0.  0. -2.]]\n",
      "\n",
      " Matriz R \n",
      " -------------\n",
      "[[ 0.  0. -1.]\n",
      " [ 0.  1.  0.]\n",
      " [-1. -0.  0.]]\n",
      "\n",
      " Matriz K sin negativos \n",
      " -------------\n",
      "[[ 1.  2. -0.]\n",
      " [-0.  3.  4.]\n",
      " [-0.  0.  2.]]\n",
      "\n",
      " Matriz R sin negativos \n",
      " -------------\n",
      "[[-0. -0.  1.]\n",
      " [ 0.  1.  0.]\n",
      " [ 1.  0. -0.]]\n",
      "\n",
      " Matriz K invertida \n",
      " -------------\n",
      "[[ 1.         -0.66666667  1.33333333]\n",
      " [ 0.          0.33333333 -0.66666667]\n",
      " [ 0.          0.          0.5       ]]\n",
      "\n",
      " Matriz t \n",
      " -------------\n",
      "[ 1.  0.  2.]\n"
     ]
    }
   ],
   "source": [
    "## Prueba de la funcion descomponer\n",
    "\n",
    "# Se crean matrices de k,r y t\n",
    "k = [[1,2,0],[0,3,4],[0,0,2]]\n",
    "r = [[0,0,1],[0,1,0],[1,0,0]]\n",
    "t = [[1],[0],[2]]\n",
    "\n",
    "rt = [[0,0,1,1],[0,1,0,0],[1,0,0,2]]\n",
    "\n",
    "# Se crean las matrices en numpy\n",
    "k  = np.array(k)\n",
    "r  = np.array(r)\n",
    "t  = np.array(t)\n",
    "rt  = np.array(rt)\n",
    "\n",
    "# Se calcula M\n",
    "m = k.dot(rt)\n",
    "print(m)\n",
    "\n",
    "# Se descompone y se obtiene R, K y T para verificar si es igual a los creados anteriormente\n",
    "k_calculada,r_calculada,t_calculada =  descomponer(m)\n"
   ]
  },
  {
   "cell_type": "code",
   "execution_count": 26,
   "metadata": {},
   "outputs": [],
   "source": [
    "### La funcion proyectar recibe una matriz con la posicion de dimensiones 3xN\n",
    "### una matriz de calibracion de 3x4 y una matriz de 2x1 con el tamaño del sensor\n",
    "### Devuelve la matriz proyeccion de [2xN]\n",
    "def proyectar(pos, matCalib, tamanioSensor):\n",
    "    \n",
    "    ## Primero utilizamos la ecuacion (u,v)^T Mc^T X = (Ma,Mb)^T X\n",
    "      # Queremos calcular (u,v)\n",
    "        \n",
    "    ## Pasamos los parametros a matrices de numpy\n",
    "    pos  = np.array(pos)\n",
    "    matCalib  = np.array(matCalib)\n",
    "    tamanioSensor  = np.array(tamanioSensor)\n",
    "    \n",
    "    ## Descomponemos M en Ma, Mb, Mc, que son sus filas\n",
    "    ma = matCalib[0,:]\n",
    "    mb = matCalib[1,:]\n",
    "    mc = matCalib[2,:]\n",
    "    \n",
    "    ma = np.array([ma])\n",
    "    mb = np.array([mb])\n",
    "    mc = np.array([mc])\n",
    "    \n",
    "    ## Calculamos las transpuestas\n",
    "    ma = ma.transpose()\n",
    "    mb = mb.transpose()\n",
    "    mc = mc.transpose()\n",
    "    \n",
    "    ## primera parte de la ecuacion \n",
    "    print(\"primera parte\")\n",
    "    #mc = mc.transpose() ----- ver porque la letra dice transpuesta de la transpuesta de la matriz fila\n",
    "    \n",
    "    print(\"mc\")\n",
    "    print(mc)\n",
    "    primeraParte = pos.dot(mc)\n",
    "        \n",
    "        \n",
    "    ## segunda parte de la ecuacion\n",
    "    print(\"segunda parte\")\n",
    "    con = np.concatenate((ma,mb), axis=1)\n",
    "    print(con)\n",
    "    \n",
    "    #trasnpuestaConcat = con.transpose() -- ver el tema de la tanspuesta, porque ya esta transpuesta\n",
    "    posXtrasnp = pos.dot(con)\n",
    "    \n",
    "    ## despejamos (u,v)^T\n",
    "    print(\"sensor\")\n",
    "    posSensor = np.divide(posXtrasnp, primeraParte)\n",
    "    posSensor = posSensor.transpose() #calculo (u,v)\n",
    "    print(posSensor)\n",
    "    \n",
    "    \n",
    "    ### Con los datos obtenidos utilizamos la ecuacion: a(u,v,1)^T = M(x,y,z,1)^T\n",
    "      # despejamos alfa\n",
    "    unos = [[1],[1],[1],]\n",
    "    \n",
    "    \n",
    "    \n",
    "    \n",
    "    \n",
    "    \n",
    "    return 0\n",
    "    "
   ]
  },
  {
   "cell_type": "code",
   "execution_count": 27,
   "metadata": {},
   "outputs": [
    {
     "name": "stdout",
     "output_type": "stream",
     "text": [
      "primera parte\n",
      "mc\n",
      "[[2]\n",
      " [0]\n",
      " [0]\n",
      " [4]]\n",
      "segunda parte\n",
      "[[0 4]\n",
      " [2 3]\n",
      " [1 0]\n",
      " [1 8]]\n",
      "sensor\n",
      "[[1 0 0]\n",
      " [3 2 2]]\n"
     ]
    },
    {
     "data": {
      "text/plain": [
       "0"
      ]
     },
     "execution_count": 27,
     "metadata": {},
     "output_type": "execute_result"
    }
   ],
   "source": [
    "m = [[0,2,1,1],[4,3,0,8],[2,0,0,4]]\n",
    "p = [[1,2,1,1],[2,1,1,2],[1,2,2,2]]\n",
    "ta = [[1],[2]]\n",
    "\n",
    "proyectar(p,m,ta)"
   ]
  },
  {
   "cell_type": "code",
   "execution_count": 69,
   "metadata": {},
   "outputs": [
    {
     "data": {
      "text/plain": [
       "array([[1],\n",
       "       [2],\n",
       "       [3],\n",
       "       [4]])"
      ]
     },
     "execution_count": 69,
     "metadata": {},
     "output_type": "execute_result"
    }
   ],
   "source": [
    "ar1 = np.array([[1,2,3,4]])\n",
    "ar1 = ar1.transpose()\n",
    "ar1\n"
   ]
  },
  {
   "cell_type": "code",
   "execution_count": 44,
   "metadata": {},
   "outputs": [
    {
     "data": {
      "text/plain": [
       "array([9, 8, 7, 6])"
      ]
     },
     "execution_count": 44,
     "metadata": {},
     "output_type": "execute_result"
    }
   ],
   "source": [
    "ar2 = np.array([9,8,7,6])\n",
    "ar2"
   ]
  },
  {
   "cell_type": "code",
   "execution_count": 45,
   "metadata": {},
   "outputs": [
    {
     "ename": "TypeError",
     "evalue": "only integer scalar arrays can be converted to a scalar index",
     "output_type": "error",
     "traceback": [
      "\u001b[0;31m---------------------------------------------------------------------------\u001b[0m",
      "\u001b[0;31mTypeError\u001b[0m                                 Traceback (most recent call last)",
      "\u001b[0;32m<ipython-input-45-e1d644ab3f1f>\u001b[0m in \u001b[0;36m<module>\u001b[0;34m()\u001b[0m\n\u001b[0;32m----> 1\u001b[0;31m \u001b[0mconcat\u001b[0m \u001b[0;34m=\u001b[0m \u001b[0mnp\u001b[0m\u001b[0;34m.\u001b[0m\u001b[0mconcatenate\u001b[0m\u001b[0;34m(\u001b[0m\u001b[0mar1\u001b[0m\u001b[0;34m,\u001b[0m\u001b[0mar2\u001b[0m\u001b[0;34m)\u001b[0m\u001b[0;34m\u001b[0m\u001b[0m\n\u001b[0m",
      "\u001b[0;31mTypeError\u001b[0m: only integer scalar arrays can be converted to a scalar index"
     ]
    }
   ],
   "source": [
    "concat = np.concatenate(ar1,ar2)"
   ]
  }
 ],
 "metadata": {
  "kernelspec": {
   "display_name": "Python 2",
   "language": "python",
   "name": "python2"
  },
  "language_info": {
   "codemirror_mode": {
    "name": "ipython",
    "version": 2
   },
   "file_extension": ".py",
   "mimetype": "text/x-python",
   "name": "python",
   "nbconvert_exporter": "python",
   "pygments_lexer": "ipython2",
   "version": "2.7.13"
  }
 },
 "nbformat": 4,
 "nbformat_minor": 2
}
