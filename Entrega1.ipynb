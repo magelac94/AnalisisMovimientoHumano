{
 "cells": [
  {
   "cell_type": "code",
   "execution_count": 1,
   "metadata": {},
   "outputs": [],
   "source": [
    "## Librerias\n",
    "import numpy as np\n",
    "import scipy\n",
    "from scipy import linalg\n",
    "from numpy.linalg import inv"
   ]
  },
  {
   "cell_type": "code",
   "execution_count": 18,
   "metadata": {},
   "outputs": [],
   "source": [
    "### La funcion descomponer recibe una matriz(lista de listas) de 3x4\n",
    "### Devuelve las matrices K[3x3], R[3X3], t[3x1] \n",
    "def descomponer(listaDeListas):\n",
    "    \n",
    "    ## Convertimos lista de listas a matriz de Numpy\n",
    "    matriz  = np.array(listaDeListas)\n",
    "    print(\"\\n Matriz M \\n -------------\")\n",
    "    print(matriz)\n",
    "    \n",
    "    \n",
    "    ## Calculamos S\n",
    "    s = matriz[:,0:3]\n",
    "    print(\"\\n Matriz S \\n -------------\")\n",
    "    print(s)\n",
    "    \n",
    "    \n",
    "    ## Calculamos K y R utilizando rq de la libreria numpy.linalg\n",
    "    k, r = linalg.rq(s)\n",
    "    print(\"\\n Matriz K \\n -------------\")\n",
    "    print(k)\n",
    "    \n",
    "    print(\"\\n Matriz R \\n -------------\")\n",
    "    print(r)\n",
    "    \n",
    "    \n",
    "    ## Cambiamos los signos de las columnas de K (cuando el elmento de su diagonal es menor a 0)\n",
    "    ## Cambiamos los signos de las filas de R (cuando el elemento de la diagonal en K es menor a 0)\n",
    "    for j in [0,1,2]:    \n",
    "        if k[j,j] < 0:\n",
    "            r[j,:] = -r[j,:]\n",
    "            k[:,j] = -k[:,j]\n",
    "\n",
    "    print(\"\\n Matriz K sin negativos \\n -------------\")\n",
    "    print(k)\n",
    "    print(\"\\n Matriz R sin negativos \\n -------------\")\n",
    "    print(r)\n",
    "\n",
    "    \n",
    "    ## Calculamos w = k.t = tercer columna de M\n",
    "    w = matriz[:,3]\n",
    "    \n",
    "    k_inv = inv(k)\n",
    "    print(\"\\n Matriz K invertida \\n -------------\")\n",
    "    print(k_inv)\n",
    "    \n",
    "    t = k_inv.dot(w)\n",
    "    print(\"\\n Matriz t \\n -------------\")\n",
    "    print(t)\n",
    "    \n",
    "    return k,r,t"
   ]
  },
  {
   "cell_type": "code",
   "execution_count": 25,
   "metadata": {},
   "outputs": [
    {
     "name": "stdout",
     "output_type": "stream",
     "text": [
      "[[0 2 1 1]\n",
      " [4 3 0 8]\n",
      " [2 0 0 4]]\n",
      "\n",
      " Matriz M \n",
      " -------------\n",
      "[[0 2 1 1]\n",
      " [4 3 0 8]\n",
      " [2 0 0 4]]\n",
      "\n",
      " Matriz S \n",
      " -------------\n",
      "[[0 2 1]\n",
      " [4 3 0]\n",
      " [2 0 0]]\n",
      "\n",
      " Matriz K \n",
      " -------------\n",
      "[[-1.  2.  0.]\n",
      " [ 0.  3. -4.]\n",
      " [ 0.  0. -2.]]\n",
      "\n",
      " Matriz R \n",
      " -------------\n",
      "[[ 0.  0. -1.]\n",
      " [ 0.  1.  0.]\n",
      " [-1. -0.  0.]]\n",
      "\n",
      " Matriz K sin negativos \n",
      " -------------\n",
      "[[ 1.  2. -0.]\n",
      " [-0.  3.  4.]\n",
      " [-0.  0.  2.]]\n",
      "\n",
      " Matriz R sin negativos \n",
      " -------------\n",
      "[[-0. -0.  1.]\n",
      " [ 0.  1.  0.]\n",
      " [ 1.  0. -0.]]\n",
      "\n",
      " Matriz K invertida \n",
      " -------------\n",
      "[[ 1.         -0.66666667  1.33333333]\n",
      " [ 0.          0.33333333 -0.66666667]\n",
      " [ 0.          0.          0.5       ]]\n",
      "\n",
      " Matriz t \n",
      " -------------\n",
      "[ 1.  0.  2.]\n"
     ]
    }
   ],
   "source": [
    "## Prueba de la funcion descomponer\n",
    "\n",
    "# Se crean matrices de k,r y t\n",
    "k = [[1,2,0],[0,3,4],[0,0,2]]\n",
    "r = [[0,0,1],[0,1,0],[1,0,0]]\n",
    "t = [[1],[0],[2]]\n",
    "\n",
    "rt = [[0,0,1,1],[0,1,0,0],[1,0,0,2]]\n",
    "\n",
    "# Se crean las matrices en numpy\n",
    "k  = np.array(k)\n",
    "r  = np.array(r)\n",
    "t  = np.array(t)\n",
    "rt  = np.array(rt)\n",
    "\n",
    "# Se calcula M\n",
    "m = k.dot(rt)\n",
    "print(m)\n",
    "\n",
    "# Se descompone y se obtiene R, K y T para verificar si es igual a los creados anteriormente\n",
    "k_calculada,r_calculada,t_calculada =  descomponer(m)\n"
   ]
  },
  {
   "cell_type": "code",
   "execution_count": 29,
   "metadata": {},
   "outputs": [],
   "source": [
    "### La funcion proyectar recibe una matriz con la posicion de dimensiones 3xN\n",
    "### una matriz de calibracion de 3x4 y una matriz de 2x1 con el tamaño del sensor\n",
    "### Devuelve la matriz proyeccion de [2xN]\n",
    "def proyectar(pos, matCalib, tamanioSensor):\n",
    "    ## Descomponemos M en Ma, Mb, Mc, que son sus filas\n",
    "    ma = s = matCalib[:,0:1]\n",
    "    "
   ]
  },
  {
   "cell_type": "code",
   "execution_count": 30,
   "metadata": {},
   "outputs": [
    {
     "ename": "TypeError",
     "evalue": "list indices must be integers, not tuple",
     "output_type": "error",
     "traceback": [
      "\u001b[0;31m---------------------------------------------------------------------------\u001b[0m",
      "\u001b[0;31mTypeError\u001b[0m                                 Traceback (most recent call last)",
      "\u001b[0;32m<ipython-input-30-a13e62ed1053>\u001b[0m in \u001b[0;36m<module>\u001b[0;34m()\u001b[0m\n\u001b[1;32m      3\u001b[0m \u001b[0mta\u001b[0m \u001b[0;34m=\u001b[0m \u001b[0;34m[\u001b[0m\u001b[0;34m[\u001b[0m\u001b[0;36m1\u001b[0m\u001b[0;34m]\u001b[0m\u001b[0;34m,\u001b[0m\u001b[0;34m[\u001b[0m\u001b[0;36m2\u001b[0m\u001b[0;34m]\u001b[0m\u001b[0;34m]\u001b[0m\u001b[0;34m\u001b[0m\u001b[0m\n\u001b[1;32m      4\u001b[0m \u001b[0;34m\u001b[0m\u001b[0m\n\u001b[0;32m----> 5\u001b[0;31m \u001b[0mproyectar\u001b[0m\u001b[0;34m(\u001b[0m\u001b[0mp\u001b[0m\u001b[0;34m,\u001b[0m\u001b[0mm\u001b[0m\u001b[0;34m,\u001b[0m\u001b[0mta\u001b[0m\u001b[0;34m)\u001b[0m\u001b[0;34m\u001b[0m\u001b[0m\n\u001b[0m",
      "\u001b[0;32m<ipython-input-29-dd300e754922>\u001b[0m in \u001b[0;36mproyectar\u001b[0;34m(pos, matCalib, tamanioSensor)\u001b[0m\n\u001b[1;32m      4\u001b[0m \u001b[0;32mdef\u001b[0m \u001b[0mproyectar\u001b[0m\u001b[0;34m(\u001b[0m\u001b[0mpos\u001b[0m\u001b[0;34m,\u001b[0m \u001b[0mmatCalib\u001b[0m\u001b[0;34m,\u001b[0m \u001b[0mtamanioSensor\u001b[0m\u001b[0;34m)\u001b[0m\u001b[0;34m:\u001b[0m\u001b[0;34m\u001b[0m\u001b[0m\n\u001b[1;32m      5\u001b[0m     \u001b[0;31m## Descomponemos M en Ma, Mb, Mc, que son sus filas\u001b[0m\u001b[0;34m\u001b[0m\u001b[0;34m\u001b[0m\u001b[0m\n\u001b[0;32m----> 6\u001b[0;31m     \u001b[0mma\u001b[0m \u001b[0;34m=\u001b[0m \u001b[0ms\u001b[0m \u001b[0;34m=\u001b[0m \u001b[0mmatCalib\u001b[0m\u001b[0;34m[\u001b[0m\u001b[0;34m:\u001b[0m\u001b[0;34m,\u001b[0m\u001b[0;36m0\u001b[0m\u001b[0;34m:\u001b[0m\u001b[0;36m1\u001b[0m\u001b[0;34m]\u001b[0m\u001b[0;34m\u001b[0m\u001b[0m\n\u001b[0m\u001b[1;32m      7\u001b[0m \u001b[0;34m\u001b[0m\u001b[0m\n",
      "\u001b[0;31mTypeError\u001b[0m: list indices must be integers, not tuple"
     ]
    }
   ],
   "source": [
    "m = [[0,2,1,1],[4,3,0,8],[2,0,0,4]]\n",
    "p = [[1,2,1],[2,1,1],[1,2,2]]\n",
    "ta = [[1],[2]]\n",
    "\n",
    "proyectar(p,m,ta)"
   ]
  }
 ],
 "metadata": {
  "kernelspec": {
   "display_name": "Python 2",
   "language": "python",
   "name": "python2"
  },
  "language_info": {
   "codemirror_mode": {
    "name": "ipython",
    "version": 2
   },
   "file_extension": ".py",
   "mimetype": "text/x-python",
   "name": "python",
   "nbconvert_exporter": "python",
   "pygments_lexer": "ipython2",
   "version": "2.7.13"
  }
 },
 "nbformat": 4,
 "nbformat_minor": 2
}
