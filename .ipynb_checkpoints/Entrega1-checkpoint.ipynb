{
 "cells": [
  {
   "cell_type": "code",
   "execution_count": 45,
   "metadata": {},
   "outputs": [],
   "source": [
    "## Libs\n",
    "import numpy as np\n",
    "import scipy\n",
    "from scipy import linalg"
   ]
  },
  {
   "cell_type": "code",
   "execution_count": 56,
   "metadata": {},
   "outputs": [],
   "source": [
    "def parteA(lista):\n",
    "    \n",
    "    ## Convertir lista de listas a matriz de numpy\n",
    "    matriz  = np.array(lista)\n",
    "    #print(matriz)\n",
    "    \n",
    "    s = matriz[:,0:3]\n",
    "    print(s)\n",
    "    \n",
    "    k, r = linalg.rq(s)\n",
    "    \n",
    "    \n",
    "    print(k)\n",
    "    print(r)\n",
    "    \n",
    "    \n",
    "    print(r.transpose().dot(r))\n",
    "    \n",
    "    \n",
    "    \n",
    "    \n",
    "    \n",
    "    return 0"
   ]
  },
  {
   "cell_type": "code",
   "execution_count": 57,
   "metadata": {},
   "outputs": [
    {
     "name": "stdout",
     "output_type": "stream",
     "text": [
      "[[1 2 1]\n",
      " [1 3 1]\n",
      " [8 3 1]]\n",
      "[[-0.31622777 -1.69099363 -1.74371458]\n",
      " [ 0.         -2.57325118 -2.0924575 ]\n",
      " [ 0.          0.         -8.60232527]]\n",
      "[[ -5.55111512e-16   3.16227766e-01  -9.48683298e-01]\n",
      " [  3.67607311e-01  -8.82257547e-01  -2.94085849e-01]\n",
      " [ -9.29981110e-01  -3.48742916e-01  -1.16247639e-01]]\n",
      "[[  1.00000000e+00   1.66533454e-16   4.99600361e-16]\n",
      " [  1.66533454e-16   1.00000000e+00   1.87350135e-16]\n",
      " [  4.99600361e-16   1.87350135e-16   1.00000000e+00]]\n"
     ]
    },
    {
     "data": {
      "text/plain": [
       "0"
      ]
     },
     "execution_count": 57,
     "metadata": {},
     "output_type": "execute_result"
    }
   ],
   "source": [
    "l = [[1,2,1,4],[1,3,1,5],[8,3,1,2]]\n",
    "\n",
    "parteA(l)\n",
    "\n",
    "\n"
   ]
  }
 ],
 "metadata": {
  "kernelspec": {
   "display_name": "Python 2",
   "language": "python",
   "name": "python2"
  },
  "language_info": {
   "codemirror_mode": {
    "name": "ipython",
    "version": 2
   },
   "file_extension": ".py",
   "mimetype": "text/x-python",
   "name": "python",
   "nbconvert_exporter": "python",
   "pygments_lexer": "ipython2",
   "version": "2.7.13"
  }
 },
 "nbformat": 4,
 "nbformat_minor": 2
}
