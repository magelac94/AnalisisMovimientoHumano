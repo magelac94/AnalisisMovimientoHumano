{
 "cells": [
  {
   "cell_type": "code",
   "execution_count": 67,
   "metadata": {},
   "outputs": [],
   "source": [
    "## Libs\n",
    "import numpy as np\n",
    "import scipy\n",
    "from scipy import linalg\n",
    "from numpy.linalg import inv"
   ]
  },
  {
   "cell_type": "code",
   "execution_count": 93,
   "metadata": {},
   "outputs": [],
   "source": [
    "def parteA(lista):\n",
    "    \n",
    "    ## Convertir lista de listas a matriz de numpy\n",
    "    matriz  = np.array(lista)\n",
    "    print(\"Matriz M\")\n",
    "    print(matriz)\n",
    "    print(\" \")\n",
    "    \n",
    "    ## Calculamos s\n",
    "    s = matriz[:,0:3]\n",
    "    print(\"Calculo de S\")\n",
    "    print(s)\n",
    "    print(\" \")\n",
    "    \n",
    "    \n",
    "    ## Calculamos ky r (rq)\n",
    "    k, r = linalg.rq(s)\n",
    "    print(\"Imprime K\")\n",
    "    print(k)\n",
    "    print(\" \")\n",
    "    \n",
    "    print(\"Imprime r\")\n",
    "    print(r)\n",
    "    print(\" \")\n",
    "    \n",
    "    \n",
    "    \n",
    "    \n",
    "    for j in [0,1,2]:    \n",
    "        if k[j,j] < 0:\n",
    "            k[j,:] = -k[j,:]\n",
    "            r[:,j] = -r[:,j]\n",
    "\n",
    "       \n",
    "    print(\"Imprime K otra vez\")\n",
    "    print(k)\n",
    "    print(\" \")\n",
    "    print(\"Imprime R otra vez\")\n",
    "    print(r)\n",
    "    print(\" \")\n",
    "    \n",
    "    \n",
    "    \n",
    "    \n",
    "    \n",
    "    \n",
    "    #print(r.transpose().dot(r))    \n",
    "    \n",
    "    ## Calculamos w = k.t = tercer columna de M\n",
    "    w = matriz[:,3]\n",
    "    \n",
    "    k_inv = inv(k)\n",
    "    print(\"K invertida\")\n",
    "    print(k_inv)\n",
    "    print(\" \")\n",
    "    \n",
    "    t = k_inv.dot(w)\n",
    "    print(\"calculo de t\")\n",
    "    print(t)\n",
    "    \n",
    "    \n",
    "    \n",
    "    ## \n",
    "    \n",
    "    \n",
    "    \n",
    "    \n",
    "    \n",
    "    return 0"
   ]
  },
  {
   "cell_type": "code",
   "execution_count": 94,
   "metadata": {},
   "outputs": [
    {
     "name": "stdout",
     "output_type": "stream",
     "text": [
      "Matriz M\n",
      "[[1 2 1 4]\n",
      " [1 3 1 5]\n",
      " [8 3 1 2]]\n",
      " \n",
      "Calculo de S\n",
      "[[1 2 1]\n",
      " [1 3 1]\n",
      " [8 3 1]]\n",
      " \n",
      "Imprime K\n",
      "[[-0.31622777 -1.69099363 -1.74371458]\n",
      " [ 0.         -2.57325118 -2.0924575 ]\n",
      " [ 0.          0.         -8.60232527]]\n",
      " \n",
      "Imprime K otra vez\n",
      "[[ 0.31622777 -1.69099363 -1.74371458]\n",
      " [ 0.          2.57325118 -2.0924575 ]\n",
      " [ 0.          0.          8.60232527]]\n",
      " \n",
      "Imprime r\n",
      "[[ -5.55111512e-16   3.16227766e-01  -9.48683298e-01]\n",
      " [  3.67607311e-01  -8.82257547e-01  -2.94085849e-01]\n",
      " [ -9.29981110e-01  -3.48742916e-01  -1.16247639e-01]]\n",
      " \n",
      "K invertida\n",
      "[[ 3.16227766  2.07806818  1.14647827]\n",
      " [ 0.          0.38861344  0.09452759]\n",
      " [ 0.          0.          0.11624764]]\n",
      " \n",
      "calculo de t\n",
      "[ 25.33240807   2.1321224    0.23249528]\n"
     ]
    },
    {
     "data": {
      "text/plain": [
       "0"
      ]
     },
     "execution_count": 94,
     "metadata": {},
     "output_type": "execute_result"
    }
   ],
   "source": [
    "l = [[1,2,1,4],[1,3,1,5],[8,3,1,2]]\n",
    "\n",
    "parteA(l)\n",
    "\n",
    "\n"
   ]
  },
  {
   "cell_type": "code",
   "execution_count": 95,
   "metadata": {},
   "outputs": [
    {
     "name": "stdout",
     "output_type": "stream",
     "text": [
      "[[0 2 1 1]\n",
      " [4 3 0 8]\n",
      " [2 0 0 4]]\n"
     ]
    }
   ],
   "source": [
    "k = [[1,2,0],[0,3,4],[0,0,2]]\n",
    "r = [[0,0,1],[0,1,0],[1,0,0]]\n",
    "t = [[1],[0],[2]]\n",
    "\n",
    "rt = [[0,0,1,1],[0,1,0,0],[1,0,0,2]]\n",
    "\n",
    "k  = np.array(k)\n",
    "r  = np.array(r)\n",
    "t  = np.array(t)\n",
    "rt  = np.array(rt)\n",
    "\n",
    "\n",
    "m = k.dot(rt)\n",
    "print(m)"
   ]
  },
  {
   "cell_type": "code",
   "execution_count": 96,
   "metadata": {},
   "outputs": [
    {
     "name": "stdout",
     "output_type": "stream",
     "text": [
      "Matriz M\n",
      "[[0 2 1 1]\n",
      " [4 3 0 8]\n",
      " [2 0 0 4]]\n",
      " \n",
      "Calculo de S\n",
      "[[0 2 1]\n",
      " [4 3 0]\n",
      " [2 0 0]]\n",
      " \n",
      "Imprime K\n",
      "[[-1.  2.  0.]\n",
      " [ 0.  3. -4.]\n",
      " [ 0.  0. -2.]]\n",
      " \n",
      "Imprime K otra vez\n",
      "[[ 1.  2.  0.]\n",
      " [ 0.  3. -4.]\n",
      " [ 0.  0.  2.]]\n",
      " \n",
      "Imprime r\n",
      "[[ 0.  0. -1.]\n",
      " [ 0.  1.  0.]\n",
      " [-1. -0.  0.]]\n",
      " \n",
      "K invertida\n",
      "[[ 1.         -0.66666667 -1.33333333]\n",
      " [ 0.          0.33333333  0.66666667]\n",
      " [ 0.          0.          0.5       ]]\n",
      " \n",
      "calculo de t\n",
      "[-9.66666667  5.33333333  2.        ]\n"
     ]
    },
    {
     "data": {
      "text/plain": [
       "0"
      ]
     },
     "execution_count": 96,
     "metadata": {},
     "output_type": "execute_result"
    }
   ],
   "source": [
    "parteA(m)"
   ]
  }
 ],
 "metadata": {
  "kernelspec": {
   "display_name": "Python 2",
   "language": "python",
   "name": "python2"
  },
  "language_info": {
   "codemirror_mode": {
    "name": "ipython",
    "version": 2
   },
   "file_extension": ".py",
   "mimetype": "text/x-python",
   "name": "python",
   "nbconvert_exporter": "python",
   "pygments_lexer": "ipython2",
   "version": "2.7.13"
  }
 },
 "nbformat": 4,
 "nbformat_minor": 2
}
